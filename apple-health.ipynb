{
 "cells": [
  {
   "cell_type": "markdown",
   "metadata": {},
   "source": [
    "### Setup"
   ]
  },
  {
   "cell_type": "code",
   "execution_count": 76,
   "metadata": {},
   "outputs": [],
   "source": [
    "import pandas as pd\n",
    "import numpy as np\n",
    "import xmltodict\n",
    "import inflection\n",
    "\n",
    "pd.set_option('display.max_colwidth', 1000)\n",
    "pd.set_option('display.max_columns', 500)"
   ]
  },
  {
   "cell_type": "markdown",
   "metadata": {},
   "source": [
    "### Load data"
   ]
  },
  {
   "cell_type": "markdown",
   "metadata": {},
   "source": [
    "Later, convert this into a Python script to clean automatically. Save Jupyter notebook for analysis"
   ]
  },
  {
   "cell_type": "code",
   "execution_count": 2,
   "metadata": {
    "code_folding": []
   },
   "outputs": [],
   "source": [
    "# Load Apple Health file as dictionaries\n",
    "\n",
    "file_path = 'data/export.xml'\n",
    "\n",
    "with open(file_path, 'r') as apple_health_file:\n",
    "    apple_health_dict = xmltodict.parse(apple_health_file.read())\n",
    "    \n",
    "# Extract relevant part of dictionary as another (smaller) dictionary\n",
    "# The dict called HealthData contains sub-dictionaries for @locale, ExportDate, Me, Record\n",
    "# We are most interested in Record - contains Health records\n",
    "\n",
    "records_dict = apple_health_dict['HealthData']['Record']\n",
    "\n",
    "# Convert to a dataframe\n",
    "\n",
    "apple_health_raw = pd.DataFrame(records_dict)\n",
    "te\n",
    "\n",
    "## Thanks to Guido Casiraghi and his Medium article for helping read in the file\n",
    "## https://medium.com/better-programming/analyze-your-icloud-health-data-with-pandas-dd5e963e902f"
   ]
  },
  {
   "cell_type": "code",
   "execution_count": 72,
   "metadata": {},
   "outputs": [],
   "source": [
    "# Clean up file\n",
    "\n",
    "\n",
    "# apple_health_raw\n",
    "\n",
    "\n",
    "# Drop unwanted columns\n",
    "# Rename all the columns\n",
    "# Clean each column\n",
    "\n",
    "\n",
    "\n",
    "def clean_type(df):\n",
    "    df = df.copy()\n",
    "    df['type'] = df['@type']\n",
    "    df['type'] = df.str[len(string_to_remove):]\n",
    "    return df\n",
    "    \n",
    "\n",
    "\n",
    "# Plan for each column\n",
    "# @type - rename options to left of HKQuantityTypeIdentifier, convert camel case to underscore casing, convert to category, drop rare or sensitive categories I don't want to share (HighHeartRate,MenstrualFlow, WaistCircumference,MindfulSession, BodyMass,Height)\n",
    "# @sourceName - rename to standardised source naumes (not Rachels, iPhone of me, etc), convert to category\n",
    "# @sourceVersion - drop\n",
    "# @device - drop\n",
    "# @unit - keep, rename column, convert to category\n",
    "# @creationDate - drop - seems to be the same as either startDate or endDate\n",
    "# @startDate and @endDate - convert to datetime, keep in time zone recorded, get rid of time zone signifier (+1000)\n",
    "# @value- convert to integer\n",
    "# MetadataEntry - drop from main dataframe but preserve for separate 'deep dives' into heart rate analysis and sleep analysis\n",
    "# HeartRateVariabilityMetadataList - drop from main dataframe but preserve for separate 'deep dive' into heart rate analysis\n",
    "\n",
    "# Thanks to Tom Augspurger and his wonderful series on Modern Pandas for teaching me method chaining\n",
    "# https://tomaugspurger.github.io/method-chaining.html"
   ]
  },
  {
   "cell_type": "code",
   "execution_count": 236,
   "metadata": {
    "code_folding": []
   },
   "outputs": [],
   "source": [
    "# List of dropped columns\n",
    "dropped_cols = ['@sourceVersion', '@device', '@creationDate', 'MetadataEntry', 'HeartRateVariabilityMetadataList']\n",
    "\n",
    "# List of new and old column names\n",
    "current_cols = list(apple_health_raw.columns)\n",
    "new_cols = [inflection.underscore(i).replace('@', '') for i in current_cols]\n",
    "dict_col_names = dict(zip(current_cols, new_cols))\n",
    "\n",
    "# Function to clean 'type' column\n",
    "def clean_type(df):\n",
    "    df = df.copy()\n",
    "    # Remove unnecessary string at the front\n",
    "    string_to_remove = 'HKQuantityTypeIdentifier'\n",
    "    df['type'] = df['type'].str[len(string_to_remove):]\n",
    "    # Drop unwanted types\n",
    "    unwanted_types = ['VO2Max','HighHeartRateEvent', 'MenstrualFlow', 'WaistCircumference', \n",
    "                      'MindfulSession', 'BodyMass', 'Height']\n",
    "    df = df[~df['type'].isin(unwanted_types)]\n",
    "    # Convert to category dtype\n",
    "    df['type'] = df['type'].astype('category')\n",
    "    return df\n",
    "\n",
    "# Function to clean 'source_name' column\n",
    "def clean_source_name(df):\n",
    "    df = df.copy()\n",
    "    # Replace common device key names\n",
    "    custom_device_name_keywords = ['Watch', 'iPhone']\n",
    "    for i in custom_device_name_keywords:\n",
    "        df.loc[df['source_name'].str.contains(i), 'source_name'] = i\n",
    "#     old_source_names = list(ap['source_name'].unique())\n",
    "#     new_source_names = ['Streaks', 'Watch', 'iPhone', 'Clock', 'AutoSleep']\n",
    "#     df['source_name'] = df['source_name'].replace(old_source_names, new_source_names)\n",
    "    # Convert to category dtype\n",
    "    df['source_name'] = df['source_name'].astype('category')\n",
    "    return df\n",
    "\n",
    "# Function to clean 'unit' column\n",
    "def clean_unit(df):\n",
    "    df = df.copy()\n",
    "    # Convert to category dtype\n",
    "    df['unit'] = df['unit'].astype('category')\n",
    "    return df\n",
    "\n",
    "# Function to clean 'value' column\n",
    "# def clean_value(df):\n",
    "#     df = df.copy()\n",
    "    # Replace 'HKCategoryValueAppleStandHourStood' with 1 to indicate a standing hour\n",
    "#     df['value'] = df['value'].replace({}'HKCategoryValueAppleStandHourStood', 1)\n",
    "    \n",
    "    # Convert to float dtype\n",
    "#     df['value'] = df['value'].astype('float')\n",
    "#     return df\n",
    "\n",
    "\n",
    "ap = (\n",
    "    apple_health_raw\n",
    "    .copy()\n",
    "    .drop(dropped_cols, axis = 1)\n",
    "    .rename(columns = dict_col_names)\n",
    "    .pipe(clean_type)\n",
    "    .pipe(clean_source_name)\n",
    ")"
   ]
  },
  {
   "cell_type": "code",
   "execution_count": 235,
   "metadata": {},
   "outputs": [],
   "source": [
    "# list(ap['source_name'].unique())\n",
    "\n",
    "#if it cona\n",
    "\n",
    "\n",
    "# ap['source_name'].replace('Rachel’s Apple\\xa0Watch', 'Watch')\n",
    "\n",
    "custom_device_name_keywords = ['Watch', 'iPhone']\n",
    "for i in custom_device_name_keywords:\n",
    "    ap.loc[ap['source_name'].str.contains(i), 'source_name'] = i\n",
    "\n",
    "# ap.loc[ap['source_name'].str.contains('Watch'), 'source_name'] = 'Watch'\n",
    "# ap.loc[ap['source_name'].str.contains('iPhone'), 'source_name'] = 'iPhone'\n",
    "\n",
    "# replace('(Watch)', 'Watch2', regex = True).value_counts()\n",
    "\n",
    "# ap['source_name'].value_counts()\n",
    "\n",
    "# .value_counts()"
   ]
  },
  {
   "cell_type": "code",
   "execution_count": 234,
   "metadata": {},
   "outputs": [
    {
     "data": {
      "text/plain": [
       "array(['Streaks', 'Watch', 'iPhone', 'Clock', 'AutoSleep'], dtype=object)"
      ]
     },
     "execution_count": 234,
     "metadata": {},
     "output_type": "execute_result"
    }
   ],
   "source": [
    "ap['source_name'].unique()"
   ]
  },
  {
   "cell_type": "code",
   "execution_count": 237,
   "metadata": {},
   "outputs": [],
   "source": [
    "# ap[ap['value'] == 'HKCategoryValueAppleStandHourIdle']\n",
    "\n",
    "# ap.pipe(clean_value)\n",
    "\n",
    "# ap['value'].value_counts().sort_index()\n",
    "\n",
    "# HKCategoryValueAppleStandHourIdle      744\n",
    "# HKCategoryValueAppleStandHourStood    1465\n",
    "# HKCategoryValueSleepAnalysisAsleep     129\n",
    "# HKCategoryValueSleepAnalysisInBed \n",
    "\n",
    "\n"
   ]
  },
  {
   "cell_type": "code",
   "execution_count": 238,
   "metadata": {},
   "outputs": [],
   "source": [
    "# ap['source_name'].unique()"
   ]
  },
  {
   "cell_type": "code",
   "execution_count": 170,
   "metadata": {},
   "outputs": [
    {
     "data": {
      "text/plain": [
       "array(['Streaks', 'Watch', 'iPhone', 'Clock', 'AutoSleep'], dtype=object)"
      ]
     },
     "execution_count": 170,
     "metadata": {},
     "output_type": "execute_result"
    }
   ],
   "source": [
    "# old_source_name = list(ap['source_name'].unique())\n",
    "# new_source_name = ['Streaks', 'Watch', 'iPhone', 'Clock', 'AutoSleep']\n",
    "\n",
    "# ap['source_name'].replace(old_source_name, new_source_name).unique()\n",
    "\n",
    "# # ap"
   ]
  },
  {
   "cell_type": "code",
   "execution_count": 239,
   "metadata": {},
   "outputs": [],
   "source": [
    "# ap['type'].value_counts().index\n",
    "\n",
    "\n",
    "# # Unwanted rows\n",
    "# unwanted_types = ['VO2Max','HighHeartRateEvent', 'MenstrualFlow', 'WaistCircumference', 'MindfulSession', 'BodyMass', 'Height']\n",
    "\n",
    "# ap[~ap['type'].isin(unwanted_types)]"
   ]
  },
  {
   "cell_type": "code",
   "execution_count": 97,
   "metadata": {},
   "outputs": [
    {
     "data": {
      "text/plain": [
       "{'@type': 'type',\n",
       " '@sourceName': 'source_name',\n",
       " '@unit': 'unit',\n",
       " '@startDate': 'start_date',\n",
       " '@endDate': 'end_date',\n",
       " '@value': 'value'}"
      ]
     },
     "execution_count": 97,
     "metadata": {},
     "output_type": "execute_result"
    }
   ],
   "source": [
    "# current_cols = list(ap.columns)\n",
    "# new_cols = [inflection.underscore(i).replace('@', '') for i in current_cols]\n",
    "\n",
    "# dict(zip(current_cols, new_cols))"
   ]
  },
  {
   "cell_type": "code",
   "execution_count": null,
   "metadata": {},
   "outputs": [],
   "source": [
    "\n"
   ]
  },
  {
   "cell_type": "code",
   "execution_count": null,
   "metadata": {},
   "outputs": [],
   "source": []
  },
  {
   "cell_type": "code",
   "execution_count": null,
   "metadata": {},
   "outputs": [],
   "source": [
    "\n"
   ]
  },
  {
   "cell_type": "code",
   "execution_count": 78,
   "metadata": {},
   "outputs": [
    {
     "data": {
      "text/plain": [
       "'dietary_water'"
      ]
     },
     "execution_count": 78,
     "metadata": {},
     "output_type": "execute_result"
    }
   ],
   "source": [
    "# a = 'DietaryWater'\n",
    "# inflection.underscore(a)"
   ]
  },
  {
   "cell_type": "code",
   "execution_count": 240,
   "metadata": {},
   "outputs": [],
   "source": [
    "# string_to_remove = 'HKQuantityTypeIdentifier'\n",
    "# apple_health_raw['@type'].str[len(string_to_remove):]\n",
    "\n",
    "# # len('HKQuantityTypeIdentifier')\n"
   ]
  }
 ],
 "metadata": {
  "kernelspec": {
   "display_name": "Python 3",
   "language": "python",
   "name": "python3"
  },
  "language_info": {
   "codemirror_mode": {
    "name": "ipython",
    "version": 3
   },
   "file_extension": ".py",
   "mimetype": "text/x-python",
   "name": "python",
   "nbconvert_exporter": "python",
   "pygments_lexer": "ipython3",
   "version": "3.6.4"
  }
 },
 "nbformat": 4,
 "nbformat_minor": 2
}
