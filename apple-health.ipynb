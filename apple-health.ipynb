{
 "cells": [
  {
   "cell_type": "markdown",
   "metadata": {},
   "source": [
    "### Setup"
   ]
  },
  {
   "cell_type": "code",
   "execution_count": 40,
   "metadata": {},
   "outputs": [],
   "source": [
    "import pandas as pd\n",
    "import numpy as np\n",
    "import xmltodict\n",
    "\n",
    "pd.set_option('display.max_colwidth', 1000)\n",
    "pd.set_option('display.max_columns', 500)"
   ]
  },
  {
   "cell_type": "markdown",
   "metadata": {},
   "source": [
    "### Load data"
   ]
  },
  {
   "cell_type": "markdown",
   "metadata": {},
   "source": [
    "Later, convert this into a Python script to clean automatically. Save Jupyter notebook for analysis"
   ]
  },
  {
   "cell_type": "code",
   "execution_count": 2,
   "metadata": {
    "code_folding": []
   },
   "outputs": [],
   "source": [
    "# Load Apple Health file as dictionaries\n",
    "\n",
    "file_path = 'data/export.xml'\n",
    "\n",
    "with open(file_path, 'r') as apple_health_file:\n",
    "    apple_health_dict = xmltodict.parse(apple_health_file.read())\n",
    "    \n",
    "# Extract relevant part of dictionary as another (smaller) dictionary\n",
    "# The dict called HealthData contains sub-dictionaries for @locale, ExportDate, Me, Record\n",
    "# We are most interested in Record - contains Health records\n",
    "\n",
    "records_dict = apple_health_dict['HealthData']['Record']\n",
    "\n",
    "# Convert to a dataframe\n",
    "\n",
    "apple_health_raw = pd.DataFrame(records_dict)\n",
    "\n",
    "## Thanks to Guido Casiraghi and his Medium article for helping with this part\n",
    "## https://medium.com/better-programming/analyze-your-icloud-health-data-with-pandas-dd5e963e902f"
   ]
  },
  {
   "cell_type": "code",
   "execution_count": 60,
   "metadata": {},
   "outputs": [],
   "source": [
    "# Clean up file\n",
    "\n",
    "\n",
    "# apple_health_raw\n",
    "\n",
    "# Plan for each column\n",
    "\n",
    "# @type - rename options to left of HKQuantityTypeIdentifier, convert camel case to underscore casing, convert to category, drop rare or sensitive categories I don't want to share (HighHeartRate,MenstrualFlow, WaistCircumference,MindfulSession, BodyMass,Height)\n",
    "# @sourceName - rename to standardised source naumes (not Rachels, iPhone of me, etc), convert to category\n",
    "# @sourceVersion - drop\n",
    "# @device - drop\n",
    "# @unit - keep, rename column, convert to category\n",
    "# @creationDate - drop - seems to be the same as either startDate or endDate\n",
    "# @startDate and @endDate - convert to datetime, keep in time zone recorded, get rid of time zone signifier (+1000)\n",
    "# @value- convert to integer\n",
    "# MetadataEntry - drop from main dataframe but preserve for separate 'deep dives' into heart rate analysis and sleep analysis\n",
    "# HeartRateVariabilityMetadataList - drop from main dataframe but preserve for separate 'deep dive' into heart rate analysis\n"
   ]
  }
 ],
 "metadata": {
  "kernelspec": {
   "display_name": "Python 3",
   "language": "python",
   "name": "python3"
  },
  "language_info": {
   "codemirror_mode": {
    "name": "ipython",
    "version": 3
   },
   "file_extension": ".py",
   "mimetype": "text/x-python",
   "name": "python",
   "nbconvert_exporter": "python",
   "pygments_lexer": "ipython3",
   "version": "3.6.4"
  }
 },
 "nbformat": 4,
 "nbformat_minor": 2
}
