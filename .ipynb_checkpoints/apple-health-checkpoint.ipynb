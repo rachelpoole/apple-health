{
 "cells": [
  {
   "cell_type": "markdown",
   "metadata": {},
   "source": [
    "### Setup"
   ]
  },
  {
   "cell_type": "code",
   "execution_count": null,
   "metadata": {},
   "outputs": [],
   "source": [
    "import pandas as pd\n",
    "import numpy as np\n",
    "import xmltodict\n",
    "import inflection\n",
    "\n",
    "pd.set_option('display.max_colwidth', 1000)\n",
    "pd.set_option('display.max_columns', 500)"
   ]
  },
  {
   "cell_type": "markdown",
   "metadata": {},
   "source": [
    "### Load data"
   ]
  },
  {
   "cell_type": "markdown",
   "metadata": {},
   "source": [
    "Later, convert this into a Python script to clean automatically. Save Jupyter notebook for analysis"
   ]
  },
  {
   "cell_type": "code",
   "execution_count": null,
   "metadata": {
    "code_folding": []
   },
   "outputs": [],
   "source": [
    "# Load Apple Health file as a mega-dictionary\n",
    "file_path = 'data/export.xml'\n",
    "with open(file_path, 'r') as apple_health_file:\n",
    "    apple_health_dict = xmltodict.parse(apple_health_file.read())\n",
    "    \n",
    "# Extract relevant part of mega-dictionary as another (smaller) dictionary\n",
    "# The dict called HealthData contains sub-dictionaries for @locale, ExportDate, Me, Record\n",
    "# We are most interested in Record - contains Health records\n",
    "records_dict = apple_health_dict['HealthData']['Record']\n",
    "\n",
    "# Convert to a dataframe\n",
    "apple_health_raw = pd.DataFrame(records_dict)\n",
    "\n",
    "## Thanks to Guido Casiraghi and his Medium article for helping read in the file\n",
    "## https://medium.com/better-programming/analyze-your-icloud-health-data-with-pandas-dd5e963e902f"
   ]
  },
  {
   "cell_type": "markdown",
   "metadata": {},
   "source": [
    "### Clean data"
   ]
  },
  {
   "cell_type": "code",
   "execution_count": null,
   "metadata": {},
   "outputs": [],
   "source": [
    "## Define cleaning procedures\n",
    "# Drop unwanted columns\n",
    "# Rename remaining columns\n",
    "# Clean each column\n",
    "\n",
    "# List of dropped columns\n",
    "dropped_cols = ['@sourceVersion', '@device', '@creationDate', 'MetadataEntry', \n",
    "                'HeartRateVariabilityMetadataList']\n",
    "\n",
    "# List of new and old column names\n",
    "current_cols = list(apple_health_raw.columns)\n",
    "new_cols = [inflection.underscore(i).replace('@', '') for i in current_cols]\n",
    "dict_col_names = dict(zip(current_cols, new_cols))\n",
    "\n",
    "# Function to clean 'type' column\n",
    "def clean_type(df):\n",
    "    df = df.copy()\n",
    "    # Remove unnecessary string at the front\n",
    "    string_to_remove = 'HKQuantityTypeIdentifier'\n",
    "    df['type'] = df['type'].str[len(string_to_remove):]\n",
    "    # Drop unwanted types\n",
    "    unwanted_types = ['VO2Max','HighHeartRateEvent', 'MenstrualFlow', 'WaistCircumference', \n",
    "                      'MindfulSession', 'BodyMass', 'Height']\n",
    "    df = df[~df['type'].isin(unwanted_types)]\n",
    "    # Convert to category dtype\n",
    "    df['type'] = df['type'].astype('category')\n",
    "    return df\n",
    "\n",
    "# Function to clean 'source_name' column\n",
    "def clean_source_name(df):\n",
    "    df = df.copy()\n",
    "    # Replace commonly customised device names with standard keywords (e.g. Rachel's iPhone to iPhone)\n",
    "    custom_device_name_keywords = ['Watch', 'iPhone']\n",
    "    for i in custom_device_name_keywords:\n",
    "        df.loc[df['source_name'].str.contains(i), 'source_name'] = i\n",
    "    # Convert to category dtype\n",
    "    df['source_name'] = df['source_name'].astype('category')\n",
    "    return df\n",
    "\n",
    "# Function to clean 'unit' column\n",
    "def clean_unit(df):\n",
    "    df = df.copy()\n",
    "    # Convert to category dtype\n",
    "    df['unit'] = df['unit'].astype('category')\n",
    "    return df\n",
    "\n",
    "# Function to clean 'start_date' and 'end_date' columns\n",
    "# All times appear to be in local time of location where data was extracted - no value to keeping\n",
    "def clean_dates(df):\n",
    "    df = df.copy()\n",
    "    datetime_cols = ['start_date', 'end_date']\n",
    "    # Convert columns to datetime and remove time zone\n",
    "    for i in datetime_cols:\n",
    "        df[i] = pd.to_datetime(df[i]).dt.tz_localize(tz = None)\n",
    "    return df\n",
    "\n",
    "# Function to clean 'value' column\n",
    "def clean_value(df):\n",
    "    df = df.copy()\n",
    "    # Replace string categories with numerical eqiuvalents\n",
    "    string_values = ['HKCategoryValueAppleStandHourIdle', 'HKCategoryValueAppleStandHourStood',\n",
    "                     'HKCategoryValueSleepAnalysisAsleep','HKCategoryValueSleepAnalysisInBed']\n",
    "    numerical_values = [0, 1, 2, 1]\n",
    "    df['value'] = df['value'].replace(string_values, numerical_values)\n",
    "    # Convert to float dtype\n",
    "    df['value'] = df['value'].astype('float')\n",
    "    return df\n",
    "\n",
    "## Run cleaning procedures\n",
    "ap = (\n",
    "    apple_health_raw\n",
    "    .copy()\n",
    "    .drop(dropped_cols, axis = 1)\n",
    "    .rename(columns = dict_col_names)\n",
    "    .pipe(clean_type)\n",
    "    .pipe(clean_source_name)\n",
    "    .pipe(clean_unit)\n",
    "    .pipe(clean_dates)\n",
    "    .pipe(clean_value)\n",
    ")\n",
    "\n",
    "# Note - dropped columns that may of interest for future deep dives\n",
    "# MetadataEntry - heart rate analysis and sleep analysis\n",
    "# HeartRateVariabilityMetadataList - heart rate analysis\n",
    "\n",
    "# Thanks to Tom Augspurger and his wonderful series on Modern Pandas for teaching me method chaining\n",
    "# https://tomaugspurger.github.io/method-chaining.html"
   ]
  }
 ],
 "metadata": {
  "kernelspec": {
   "display_name": "Python 3",
   "language": "python",
   "name": "python3"
  },
  "language_info": {
   "codemirror_mode": {
    "name": "ipython",
    "version": 3
   },
   "file_extension": ".py",
   "mimetype": "text/x-python",
   "name": "python",
   "nbconvert_exporter": "python",
   "pygments_lexer": "ipython3",
   "version": "3.6.4"
  }
 },
 "nbformat": 4,
 "nbformat_minor": 2
}
